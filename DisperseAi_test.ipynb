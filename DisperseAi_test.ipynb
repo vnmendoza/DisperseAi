{
 "cells": [
  {
   "cell_type": "markdown",
   "id": "3c49e156",
   "metadata": {},
   "source": [
    "Author: Victor Mendoza\n",
    "\n",
    "Description: This code will use ML to identify crowd density in a picture"
   ]
  },
  {
   "cell_type": "markdown",
   "id": "c0e664db",
   "metadata": {},
   "source": [
    "git clone https://github.com/leeyeehoo/CSRNet-pytorch.git\n",
    "[Add python 2.7 kernel to jupyter](https://allenfrostline.com/blog/py27-kernel/)\n",
    "create a new file inside of this folder\n",
    "pip install pillow\n",
    "pip install opencv-python\n",
    "pip install torchvision"
   ]
  },
  {
   "cell_type": "code",
   "execution_count": 5,
   "id": "c8613e3e",
   "metadata": {},
   "outputs": [],
   "source": [
    "# importing libraries\n",
    "import h5py #used to store huge amounts of numerical data\n",
    "import scipy.io as io #read/write files like matlab\n",
    "import PIL.Image as Image #open and display images\n",
    "import numpy as np #arrays and computation\n",
    "import os #operating system interfaces\n",
    "import glob #recursive folder searching\n",
    "from matplotlib import pyplot as plt #plot graphs\n",
    "from scipy.ndimage.filters import gaussian_filter #image processing\n",
    "import scipy #scientific tools\n",
    "import json #file type\n",
    "from matplotlib import cm as CM #color maps\n",
    "from image import *\n",
    "import trainer.model as model\n",
    "from model import CSRNet #Dialated CNN\n",
    "import torch #ml framework\n",
    "from tqdm import tqdm #loading bar\n",
    "%matplotlib inline\n"
   ]
  },
  {
   "cell_type": "code",
   "execution_count": null,
   "id": "9f8e5094",
   "metadata": {},
   "outputs": [],
   "source": []
  }
 ],
 "metadata": {
  "kernelspec": {
   "display_name": "Python 3 (ipykernel)",
   "language": "python",
   "name": "python3"
  },
  "language_info": {
   "codemirror_mode": {
    "name": "ipython",
    "version": 3
   },
   "file_extension": ".py",
   "mimetype": "text/x-python",
   "name": "python",
   "nbconvert_exporter": "python",
   "pygments_lexer": "ipython3",
   "version": "3.9.7"
  }
 },
 "nbformat": 4,
 "nbformat_minor": 5
}
