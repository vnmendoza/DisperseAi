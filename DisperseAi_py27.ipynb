{
 "cells": [
  {
   "cell_type": "code",
   "execution_count": 7,
   "id": "cf0c0e68",
   "metadata": {},
   "outputs": [],
   "source": [
    "# importing libraries\n",
    "import h5py #used to store huge amounts of numerical data\n",
    "import scipy.io as io #read/write files like matlab\n",
    "import PIL.Image as Image #open and display images\n",
    "import numpy as np #arrays and computation\n",
    "import os #operating system interfaces\n",
    "import glob #recursive folder searching\n",
    "from matplotlib import pyplot as plt #plot graphs\n",
    "from scipy.ndimage.filters import gaussian_filter #image processing\n",
    "import scipy #scientific tools\n",
    "import json #file type\n",
    "from matplotlib import cm as CM #color maps\n",
    "from image import *\n",
    "import trainer.model as model\n",
    "from model import CSRNet #Dialated CNN\n",
    "import torch #ml framework\n",
    "from tqdm import tqdm #loading bar\n",
    "%matplotlib inline\n"
   ]
  },
  {
   "cell_type": "code",
   "execution_count": null,
   "id": "b319fe6a",
   "metadata": {},
   "outputs": [],
   "source": []
  }
 ],
 "metadata": {
  "kernelspec": {
   "display_name": "Python2.7",
   "language": "python",
   "name": "python2.7"
  },
  "language_info": {
   "codemirror_mode": {
    "name": "ipython",
    "version": 3
   },
   "file_extension": ".py",
   "mimetype": "text/x-python",
   "name": "python",
   "nbconvert_exporter": "python",
   "pygments_lexer": "ipython3",
   "version": "3.9.7"
  }
 },
 "nbformat": 4,
 "nbformat_minor": 5
}
